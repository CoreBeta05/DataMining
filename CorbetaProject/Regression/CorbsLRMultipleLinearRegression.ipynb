{
 "cells": [
  {
   "cell_type": "code",
   "execution_count": 26,
   "id": "0ad74c95",
   "metadata": {},
   "outputs": [],
   "source": [
    "import pandas as pd\n",
    "import numpy as np\n",
    "import matplotlib.pyplot as plt\n",
    "import seaborn as sns\n",
    "from sklearn.model_selection import train_test_split\n",
    "from sklearn.linear_model import LinearRegression\n",
    "from sklearn.metrics import mean_squared_error, mean_absolute_error\n",
    "from sklearn import preprocessing"
   ]
  },
  {
   "cell_type": "code",
   "execution_count": 27,
   "id": "19369ea0",
   "metadata": {},
   "outputs": [
    {
     "name": "stdout",
     "output_type": "stream",
     "text": [
      "   Age  Sex     ChestPain  RestBP  Chol  Fbs  RestECG  MaxHR  ExAng  Oldpeak  \\\n",
      "0   63    1       typical     145   233    1        2    150      0      2.3   \n",
      "1   67    1  asymptomatic     160   286    0        2    108      1      1.5   \n",
      "2   67    1  asymptomatic     120   229    0        2    129      1      2.6   \n",
      "3   37    1    nonanginal     130   250    0        0    187      0      3.5   \n",
      "4   41    0    nontypical     130   204    0        2    172      0      1.4   \n",
      "\n",
      "   Slope   Ca        Thal  AHD  \n",
      "0      3  0.0       fixed   No  \n",
      "1      2  3.0      normal  Yes  \n",
      "2      2  2.0  reversable  Yes  \n",
      "3      3  0.0      normal   No  \n",
      "4      1  0.0      normal   No  \n",
      "Index(['Age', 'Sex', 'ChestPain', 'RestBP', 'Chol', 'Fbs', 'RestECG', 'MaxHR',\n",
      "       'ExAng', 'Oldpeak', 'Slope', 'Ca', 'Thal', 'AHD'],\n",
      "      dtype='object')\n"
     ]
    }
   ],
   "source": [
    "df = pd.read_csv('F:\\\\CS 325 Data Mining\\\\Datasets\\\\archive\\\\Heart.csv')\n",
    "print(df.head())\n",
    "print(df.columns)"
   ]
  },
  {
   "cell_type": "code",
   "execution_count": 28,
   "id": "365fe4cc",
   "metadata": {},
   "outputs": [
    {
     "data": {
      "text/html": [
       "<div>\n",
       "<style scoped>\n",
       "    .dataframe tbody tr th:only-of-type {\n",
       "        vertical-align: middle;\n",
       "    }\n",
       "\n",
       "    .dataframe tbody tr th {\n",
       "        vertical-align: top;\n",
       "    }\n",
       "\n",
       "    .dataframe thead th {\n",
       "        text-align: right;\n",
       "    }\n",
       "</style>\n",
       "<table border=\"1\" class=\"dataframe\">\n",
       "  <thead>\n",
       "    <tr style=\"text-align: right;\">\n",
       "      <th></th>\n",
       "      <th>Age</th>\n",
       "      <th>Sex</th>\n",
       "      <th>ChestPain</th>\n",
       "      <th>RestBP</th>\n",
       "      <th>Chol</th>\n",
       "      <th>Fbs</th>\n",
       "      <th>RestECG</th>\n",
       "      <th>MaxHR</th>\n",
       "      <th>ExAng</th>\n",
       "      <th>Oldpeak</th>\n",
       "      <th>Slope</th>\n",
       "      <th>Ca</th>\n",
       "      <th>Thal</th>\n",
       "      <th>AHD</th>\n",
       "    </tr>\n",
       "  </thead>\n",
       "  <tbody>\n",
       "    <tr>\n",
       "      <th>0</th>\n",
       "      <td>63</td>\n",
       "      <td>1</td>\n",
       "      <td>1</td>\n",
       "      <td>145</td>\n",
       "      <td>233</td>\n",
       "      <td>1</td>\n",
       "      <td>2</td>\n",
       "      <td>150</td>\n",
       "      <td>0</td>\n",
       "      <td>2.3</td>\n",
       "      <td>3</td>\n",
       "      <td>0.0</td>\n",
       "      <td>2.0</td>\n",
       "      <td>0</td>\n",
       "    </tr>\n",
       "    <tr>\n",
       "      <th>1</th>\n",
       "      <td>67</td>\n",
       "      <td>1</td>\n",
       "      <td>4</td>\n",
       "      <td>160</td>\n",
       "      <td>286</td>\n",
       "      <td>0</td>\n",
       "      <td>2</td>\n",
       "      <td>108</td>\n",
       "      <td>1</td>\n",
       "      <td>1.5</td>\n",
       "      <td>2</td>\n",
       "      <td>3.0</td>\n",
       "      <td>1.0</td>\n",
       "      <td>1</td>\n",
       "    </tr>\n",
       "    <tr>\n",
       "      <th>2</th>\n",
       "      <td>67</td>\n",
       "      <td>1</td>\n",
       "      <td>4</td>\n",
       "      <td>120</td>\n",
       "      <td>229</td>\n",
       "      <td>0</td>\n",
       "      <td>2</td>\n",
       "      <td>129</td>\n",
       "      <td>1</td>\n",
       "      <td>2.6</td>\n",
       "      <td>2</td>\n",
       "      <td>2.0</td>\n",
       "      <td>3.0</td>\n",
       "      <td>1</td>\n",
       "    </tr>\n",
       "    <tr>\n",
       "      <th>3</th>\n",
       "      <td>37</td>\n",
       "      <td>1</td>\n",
       "      <td>3</td>\n",
       "      <td>130</td>\n",
       "      <td>250</td>\n",
       "      <td>0</td>\n",
       "      <td>0</td>\n",
       "      <td>187</td>\n",
       "      <td>0</td>\n",
       "      <td>3.5</td>\n",
       "      <td>3</td>\n",
       "      <td>0.0</td>\n",
       "      <td>1.0</td>\n",
       "      <td>0</td>\n",
       "    </tr>\n",
       "    <tr>\n",
       "      <th>4</th>\n",
       "      <td>41</td>\n",
       "      <td>0</td>\n",
       "      <td>2</td>\n",
       "      <td>130</td>\n",
       "      <td>204</td>\n",
       "      <td>0</td>\n",
       "      <td>2</td>\n",
       "      <td>172</td>\n",
       "      <td>0</td>\n",
       "      <td>1.4</td>\n",
       "      <td>1</td>\n",
       "      <td>0.0</td>\n",
       "      <td>1.0</td>\n",
       "      <td>0</td>\n",
       "    </tr>\n",
       "  </tbody>\n",
       "</table>\n",
       "</div>"
      ],
      "text/plain": [
       "   Age  Sex  ChestPain  RestBP  Chol  Fbs  RestECG  MaxHR  ExAng  Oldpeak  \\\n",
       "0   63    1          1     145   233    1        2    150      0      2.3   \n",
       "1   67    1          4     160   286    0        2    108      1      1.5   \n",
       "2   67    1          4     120   229    0        2    129      1      2.6   \n",
       "3   37    1          3     130   250    0        0    187      0      3.5   \n",
       "4   41    0          2     130   204    0        2    172      0      1.4   \n",
       "\n",
       "   Slope   Ca  Thal  AHD  \n",
       "0      3  0.0   2.0    0  \n",
       "1      2  3.0   1.0    1  \n",
       "2      2  2.0   3.0    1  \n",
       "3      3  0.0   1.0    0  \n",
       "4      1  0.0   1.0    0  "
      ]
     },
     "execution_count": 28,
     "metadata": {},
     "output_type": "execute_result"
    }
   ],
   "source": [
    "X= df.iloc[:,1:14]\n",
    "Y= df.iloc[:,-1]\n",
    "df['ChestPain'].replace(['typical', 'nontypical', 'nonanginal', 'asymptomatic'], [1,2,3,4], inplace=True)\n",
    "df['Thal'].replace(['normal', 'fixed', 'reversable'], [1,2,3], inplace=True)\n",
    "df['AHD'].replace(['No', 'Yes'], [0,1], inplace=True)\n",
    "df.replace('NA', np.nan, inplace = True)\n",
    "df.replace(' ', np.nan, inplace = True)\n",
    "df.dropna( inplace = True, how = 'any')\n",
    "df = df[df.Thal != '.']\n",
    "df.head()"
   ]
  },
  {
   "cell_type": "code",
   "execution_count": 29,
   "id": "ab6bb2f6",
   "metadata": {},
   "outputs": [
    {
     "data": {
      "text/plain": [
       "<AxesSubplot:xlabel='MaxHR', ylabel='AHD'>"
      ]
     },
     "execution_count": 29,
     "metadata": {},
     "output_type": "execute_result"
    },
    {
     "data": {
      "image/png": "[encoded data removed]",
      "text/plain": [
       "<Figure size 640x480 with 1 Axes>"
      ]
     },
     "metadata": {},
     "output_type": "display_data"
    }
   ],
   "source": [
    "sns.scatterplot(x='MaxHR',\n",
    "y='AHD', data=df)"
   ]
  },
  {
   "cell_type": "code",
   "execution_count": 30,
   "id": "011dcde0",
   "metadata": {},
   "outputs": [
    {
     "name": "stdout",
     "output_type": "stream",
     "text": [
      "     Age  Sex  ChestPain  RestBP  Chol  Fbs  RestECG  ExAng  Oldpeak  Slope  \\\n",
      "0     63    1          1     145   233    1        2      0      2.3      3   \n",
      "1     67    1          4     160   286    0        2      1      1.5      2   \n",
      "2     67    1          4     120   229    0        2      1      2.6      2   \n",
      "3     37    1          3     130   250    0        0      0      3.5      3   \n",
      "4     41    0          2     130   204    0        2      0      1.4      1   \n",
      "..   ...  ...        ...     ...   ...  ...      ...    ...      ...    ...   \n",
      "297   57    0          4     140   241    0        0      1      0.2      2   \n",
      "298   45    1          1     110   264    0        0      0      1.2      2   \n",
      "299   68    1          4     144   193    1        0      0      3.4      2   \n",
      "300   57    1          4     130   131    0        0      1      1.2      2   \n",
      "301   57    0          2     130   236    0        2      0      0.0      2   \n",
      "\n",
      "      Ca  Thal  AHD  \n",
      "0    0.0   2.0    0  \n",
      "1    3.0   1.0    1  \n",
      "2    2.0   3.0    1  \n",
      "3    0.0   1.0    0  \n",
      "4    0.0   1.0    0  \n",
      "..   ...   ...  ...  \n",
      "297  0.0   3.0    1  \n",
      "298  0.0   3.0    1  \n",
      "299  2.0   3.0    1  \n",
      "300  1.0   3.0    1  \n",
      "301  1.0   1.0    1  \n",
      "\n",
      "[297 rows x 13 columns]\n",
      "0      0\n",
      "1      1\n",
      "2      1\n",
      "3      0\n",
      "4      0\n",
      "      ..\n",
      "297    1\n",
      "298    1\n",
      "299    1\n",
      "300    1\n",
      "301    1\n",
      "Name: AHD, Length: 297, dtype: int64\n"
     ]
    }
   ],
   "source": [
    "X = df.drop('MaxHR',axis= 1)\n",
    "y = df['AHD']\n",
    "print(X)\n",
    "print(y)\n"
   ]
  },
  {
   "cell_type": "code",
   "execution_count": 31,
   "id": "bc9bb6b9",
   "metadata": {},
   "outputs": [],
   "source": [
    "X_train, X_test, y_train, y_test = train_test_split(\n",
    "    X, y, test_size=0.3, random_state=101)"
   ]
  },
  {
   "cell_type": "code",
   "execution_count": 32,
   "id": "99071da1",
   "metadata": {},
   "outputs": [],
   "source": [
    "model = LinearRegression()"
   ]
  },
  {
   "cell_type": "code",
   "execution_count": 34,
   "id": "4256e69e",
   "metadata": {},
   "outputs": [
    {
     "data": {
      "text/plain": [
       "LinearRegression()"
      ]
     },
     "execution_count": 34,
     "metadata": {},
     "output_type": "execute_result"
    }
   ],
   "source": [
    "model.fit(X_train,y_train)"
   ]
  },
  {
   "cell_type": "code",
   "execution_count": 35,
   "id": "2e8062a8",
   "metadata": {},
   "outputs": [],
   "source": [
    "predictions = model.predict(X_test)"
   ]
  },
  {
   "cell_type": "code",
   "execution_count": 36,
   "id": "4750e46f",
   "metadata": {},
   "outputs": [
    {
     "name": "stdout",
     "output_type": "stream",
     "text": [
      "mean_squared_error :  1.5072635744113562e-30\n",
      "mean_absolute_error :  9.81015163773658e-16\n"
     ]
    }
   ],
   "source": [
    "print(\n",
    "  'mean_squared_error : ', mean_squared_error(y_test, predictions))\n",
    "print(\n",
    "  'mean_absolute_error : ', mean_absolute_error(y_test, predictions))"
   ]
  },
  {
   "cell_type": "code",
   "execution_count": null,
   "id": "f2b7ae3f",
   "metadata": {},
   "outputs": [],
   "source": []
  }
 ],
 "metadata": {
  "kernelspec": {
   "display_name": "Python 3 (ipykernel)",
   "language": "python",
   "name": "python3"
  },
  "language_info": {
   "codemirror_mode": {
    "name": "ipython",
    "version": 3
   },
   "file_extension": ".py",
   "mimetype": "text/x-python",
   "name": "python",
   "nbconvert_exporter": "python",
   "pygments_lexer": "ipython3",
   "version": "3.9.13"
  }
 },
 "nbformat": 4,
 "nbformat_minor": 5
}
